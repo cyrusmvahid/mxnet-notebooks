{
 "cells": [
  {
   "cell_type": "code",
   "execution_count": 39,
   "metadata": {
    "collapsed": true
   },
   "outputs": [],
   "source": [
    "import numpy as np\n",
    "import mxnet as mx\n",
    "\n",
    "\n",
    "seed = 113\n",
    "\n",
    "neg_test = np.load('aclImdb/bow_neg_test_sentences_batch.npy')\n",
    "pos_test = np.load('aclImdb/bow_pos_test_sentences_batch.npy')\n",
    "neg_train = np.load('aclImdb/bow_neg_train_sentences_batch.npy')\n",
    "pos_train = np.load('aclImdb/bow_pos_train_sentences_batch.npy')\n",
    "neg_test_label = np.zeros(len(neg_test))\n",
    "pos_test_label = np.ones(len(pos_test))\n",
    "neg_train_label = np.zeros(len(neg_train))\n",
    "pos_train_label = np.ones(len(pos_train))\n",
    "\n",
    "x_data = np.concatenate([pos_train, neg_train])\n",
    "x_label = np.concatenate([pos_train_label, neg_train_label])\n",
    "\n",
    "y_data = np.concatenate([pos_test, neg_test])\n",
    "y_label = np.concatenate([pos_test_label, neg_test_label])\n",
    "\n",
    "\n",
    "np.random.seed(seed)\n",
    "np.random.shuffle(x_data)\n",
    "np.random.seed(seed)\n",
    "np.random.shuffle(x_label)"
   ]
  },
  {
   "cell_type": "code",
   "execution_count": 40,
   "metadata": {
    "collapsed": true
   },
   "outputs": [],
   "source": [
    "import numpy as np\n",
    "def pad(s, max_len):\n",
    "    if len(s) < max_len:\n",
    "        l = max_len - len(s)\n",
    "        pad_sect = np.full((l), -1)\n",
    "        s = np.concatenate([s, pad_sect])\n",
    "    return s\n",
    "\n",
    "def NormalizeSentences(s, max_len):\n",
    "    if len(s) >= max_len:\n",
    "        s = s[0:max_len]\n",
    "    else:\n",
    "        s = pad(s, max_len)\n",
    "    return s"
   ]
  },
  {
   "cell_type": "code",
   "execution_count": 41,
   "metadata": {},
   "outputs": [
    {
     "name": "stdout",
     "output_type": "stream",
     "text": [
      "[   4    6    6 ...,  936  955 1440]\n"
     ]
    }
   ],
   "source": [
    "l_array = []\n",
    "for item in x_data:\n",
    "    l_array.append(len(item))\n",
    "a = np.array(l_array)\n",
    "a.sort()\n",
    "print(a)"
   ]
  },
  {
   "cell_type": "code",
   "execution_count": 42,
   "metadata": {},
   "outputs": [],
   "source": [
    "import pandas as pd\n",
    "df = pd.DataFrame(data=a)\n",
    "df.columns = ['a']\n",
    "counts = df.groupby('a').size(); counts\n",
    "df1 = counts.to_frame()\n",
    "df1.columns = ['col1']\n",
    "ax1 = np.array(df1.index)\n",
    "ax2 = df1.as_matrix(['col1'])\n",
    "\n",
    "#for index, row in df1.iterrows():\n",
    "#    print(\"{} {}\".format(index, row['col1']))"
   ]
  },
  {
   "cell_type": "code",
   "execution_count": 43,
   "metadata": {},
   "outputs": [
    {
     "data": {
      "image/png": "[encoded data removed]",
      "text/plain": [
       "<matplotlib.figure.Figure at 0x7ff10c0dd710>"
      ]
     },
     "metadata": {},
     "output_type": "display_data"
    },
    {
     "name": "stdout",
     "output_type": "stream",
     "text": [
      "42.2297297297\n",
      "4359.3931702\n"
     ]
    }
   ],
   "source": [
    "import matplotlib.pyplot as plt\n",
    "plt.scatter(ax1, ax2)\n",
    "\n",
    "plt.ylabel('frequency')\n",
    "plt.xlabel('sentence length')\n",
    "plt.show()\n",
    "print(ax2.mean())\n",
    "print(ax2.var())"
   ]
  },
  {
   "cell_type": "code",
   "execution_count": 44,
   "metadata": {
    "collapsed": true
   },
   "outputs": [],
   "source": [
    "max_len = 256\n",
    "i = 0\n",
    "for item in x_data:\n",
    "    x_data[i] = NormalizeSentences(item, max_len)"
   ]
  },
  {
   "cell_type": "code",
   "execution_count": null,
   "metadata": {
    "collapsed": true
   },
   "outputs": [],
   "source": []
  }
 ],
 "metadata": {
  "kernelspec": {
   "display_name": "Python 3",
   "language": "python",
   "name": "python3"
  },
  "language_info": {
   "codemirror_mode": {
    "name": "ipython",
    "version": 3
   },
   "file_extension": ".py",
   "mimetype": "text/x-python",
   "name": "python",
   "nbconvert_exporter": "python",
   "pygments_lexer": "ipython3",
   "version": "3.5.2"
  }
 },
 "nbformat": 4,
 "nbformat_minor": 2
}
