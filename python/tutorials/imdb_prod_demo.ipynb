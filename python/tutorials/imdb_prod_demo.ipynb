{
 "cells": [
  {
   "cell_type": "code",
   "execution_count": 38,
   "metadata": {
    "collapsed": false
   },
   "outputs": [],
   "source": [
    "import mxnet as mx\n",
    "import numpy as np\n",
    "import glob\n",
    "import os\n",
    "from mxnet.\n"
   ]
  },
  {
   "cell_type": "code",
   "execution_count": null,
   "metadata": {
    "collapsed": false
   },
   "outputs": [],
   "source": []
  },
  {
   "cell_type": "code",
   "execution_count": 37,
   "metadata": {
    "collapsed": false
   },
   "outputs": [
    {
     "name": "stdout",
     "output_type": "stream",
     "text": [
      "/home/ubuntu/CyrusProjects/mxnet-notebooks/python/tutorials\n"
     ]
    }
   ],
   "source": [
    "BASE_DIR = '/home/ubuntu/CyrusProjects/mxnet-notebooks/python/tutorials'\n",
    "#BASE_DIR = os.getcwd()\n",
    "PATH='/aclImdb'\n",
    "os.chdir(BASE_DIR)\n",
    "print(os.getcwd())"
   ]
  },
  {
   "cell_type": "code",
   "execution_count": 32,
   "metadata": {
    "collapsed": true
   },
   "outputs": [],
   "source": [
    "def sentence_array_creator(path, root_dir):\n",
    "    os.chdir(path)\n",
    "    sentences = []\n",
    "    for file in list(glob.glob(\"*.txt\")):\n",
    "        with open(file, 'r') as f:\n",
    "            sentences.append(f.readline().strip().lower())\n",
    "    return sentences\n",
    "    os.chdir(root_dir)\n"
   ]
  },
  {
   "cell_type": "code",
   "execution_count": 33,
   "metadata": {
    "collapsed": false
   },
   "outputs": [
    {
     "name": "stdout",
     "output_type": "stream",
     "text": [
      "it seems hal hartley's films are kind of hit or miss with most audiences. this film will be no exception to that rule. fay grim acts as a sequel to hartley's 'henry foole' from 1998. the focus this time is on henry's ex wife (played to perfection by the always welcome parker posey), who is being pestered by cia goons about henry's unpublished book about all of his shady dealings. in the interim of all of this, fay ends up on an odyssey,dealing with international spies,etc. the film does get a bit bogged down in the second half. if you've been a fan of hal hartley in the past, this is one not to be missed. for the novice hartley first timer who has only heard of his film making technique, you might want to check out his earlier films before taking on this one (especially if you haven't seen 'henry' yet). i admired the camera work,which at times reminded me of certain early man ray photography.\n",
      "12500\n"
     ]
    }
   ],
   "source": [
    "os.chdir(BASE_DIR)\n",
    "root_dir = os.getcwd()\n",
    "base_dir = BASE_DIR + PATH\n",
    "pos_train_path = base_dir + '/train/pos'\n",
    "x_train = sentence_array_creator(pos_train_path, root_dir)\n",
    "print(x_train[0])\n",
    "print(len(x_train))"
   ]
  },
  {
   "cell_type": "code",
   "execution_count": 39,
   "metadata": {
    "collapsed": false
   },
   "outputs": [],
   "source": [
    "def tokenize_text(sentences, vocab=None, invalid_label=-1, start_label=0):\n",
    "    sentences, vocab = rnn.encode_sentences(lines, vocab=vocab, invalid_label=invalid_label,\n",
    "                                               start_label=start_label)\n",
    "    return sentences, vocab"
   ]
  },
  {
   "cell_type": "code",
   "execution_count": 41,
   "metadata": {
    "collapsed": false
   },
   "outputs": [
    {
     "ename": "AttributeError",
     "evalue": "'module' object has no attribute 'encode_sentences'",
     "output_type": "error",
     "traceback": [
      "\u001b[0;31m\u001b[0m",
      "\u001b[0;31mAttributeError\u001b[0mTraceback (most recent call last)",
      "\u001b[0;32m<ipython-input-41-47611a42e6e1>\u001b[0m in \u001b[0;36m<module>\u001b[0;34m()\u001b[0m\n\u001b[1;32m      2\u001b[0m \u001b[0minvalid_label\u001b[0m \u001b[0;34m=\u001b[0m \u001b[0;36m0\u001b[0m\u001b[0;34m\u001b[0m\u001b[0m\n\u001b[1;32m      3\u001b[0m \u001b[0;34m\u001b[0m\u001b[0m\n\u001b[0;32m----> 4\u001b[0;31m \u001b[0mtrain_sent\u001b[0m\u001b[0;34m,\u001b[0m \u001b[0mvocab\u001b[0m \u001b[0;34m=\u001b[0m \u001b[0mtokenize_text\u001b[0m\u001b[0;34m(\u001b[0m\u001b[0mx_train\u001b[0m\u001b[0;34m,\u001b[0m \u001b[0mstart_label\u001b[0m\u001b[0;34m=\u001b[0m\u001b[0mstart_label\u001b[0m\u001b[0;34m,\u001b[0m \u001b[0minvalid_label\u001b[0m\u001b[0;34m=\u001b[0m\u001b[0minvalid_label\u001b[0m\u001b[0;34m)\u001b[0m\u001b[0;34m\u001b[0m\u001b[0m\n\u001b[0m",
      "\u001b[0;32m<ipython-input-39-a8e5f699ba56>\u001b[0m in \u001b[0;36mtokenize_text\u001b[0;34m(sentences, vocab, invalid_label, start_label)\u001b[0m\n\u001b[1;32m      1\u001b[0m \u001b[0;32mdef\u001b[0m \u001b[0mtokenize_text\u001b[0m\u001b[0;34m(\u001b[0m\u001b[0msentences\u001b[0m\u001b[0;34m,\u001b[0m \u001b[0mvocab\u001b[0m\u001b[0;34m=\u001b[0m\u001b[0mNone\u001b[0m\u001b[0;34m,\u001b[0m \u001b[0minvalid_label\u001b[0m\u001b[0;34m=\u001b[0m\u001b[0;34m-\u001b[0m\u001b[0;36m1\u001b[0m\u001b[0;34m,\u001b[0m \u001b[0mstart_label\u001b[0m\u001b[0;34m=\u001b[0m\u001b[0;36m0\u001b[0m\u001b[0;34m)\u001b[0m\u001b[0;34m:\u001b[0m\u001b[0;34m\u001b[0m\u001b[0m\n\u001b[0;32m----> 2\u001b[0;31m     sentences, vocab = rnn.encode_sentences(lines, vocab=vocab, invalid_label=invalid_label,\n\u001b[0m\u001b[1;32m      3\u001b[0m                                                start_label=start_label)\n\u001b[1;32m      4\u001b[0m     \u001b[0;32mreturn\u001b[0m \u001b[0msentences\u001b[0m\u001b[0;34m,\u001b[0m \u001b[0mvocab\u001b[0m\u001b[0;34m\u001b[0m\u001b[0m\n",
      "\u001b[0;31mAttributeError\u001b[0m: 'module' object has no attribute 'encode_sentences'"
     ]
    }
   ],
   "source": [
    "start_label = 1\n",
    "invalid_label = 0\n",
    "\n",
    "train_sent, vocab = tokenize_text(x_train, start_label=start_label, invalid_label=invalid_label)"
   ]
  },
  {
   "cell_type": "code",
   "execution_count": null,
   "metadata": {
    "collapsed": true
   },
   "outputs": [],
   "source": []
  }
 ],
 "metadata": {
  "kernelspec": {
   "display_name": "Python 2",
   "language": "python",
   "name": "python2"
  },
  "language_info": {
   "codemirror_mode": {
    "name": "ipython",
    "version": 2
   },
   "file_extension": ".py",
   "mimetype": "text/x-python",
   "name": "python",
   "nbconvert_exporter": "python",
   "pygments_lexer": "ipython2",
   "version": "2.7.6"
  }
 },
 "nbformat": 4,
 "nbformat_minor": 2
}
